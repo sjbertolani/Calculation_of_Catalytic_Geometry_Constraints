{
 "cells": [
  {
   "cell_type": "markdown",
   "metadata": {},
   "source": [
    "## Use new PyRosetta4 bindings\n",
    "\n",
    "Reads a single pdb file, given a list of residues that are \"active site residues\" and measures the CA and CB distances for all pairings.\n",
    "\n",
    "Then prints these out for use in the upweighted.alignment.grishin.cst files"
   ]
  },
  {
   "cell_type": "code",
   "execution_count": null,
   "metadata": {
    "collapsed": true
   },
   "outputs": [],
   "source": [
    "import rosetta\n",
    "import pyrosetta\n",
    "from rosetta import *\n",
    "pyrosetta.init('-ignore_unrecognized_res T -ignore_waters T -prevent_repacking T')"
   ]
  },
  {
   "cell_type": "code",
   "execution_count": null,
   "metadata": {
    "collapsed": true
   },
   "outputs": [],
   "source": [
    "pdbcode = '1w6y'  # this is just used for storing the pdb code \n",
    "crystalfile = '../modelsysteminputs/1w6y.docked_input.pdb' #use input pdb/or crystal structure\n",
    "catres = [14,38,101]   #define the catalytic residues, by a list or from the REMARKS header"
   ]
  },
  {
   "cell_type": "code",
   "execution_count": null,
   "metadata": {},
   "outputs": [],
   "source": [
    "#crystal = pose_from_file(crystalfile)\n",
    "crystal = pyrosetta.pose_from_file(crystalfile)"
   ]
  },
  {
   "cell_type": "code",
   "execution_count": null,
   "metadata": {},
   "outputs": [],
   "source": [
    "#  i are the catalytic residues in the xtal struct. This will be different than the    \n",
    "#  pose numbering. So loop over each cat res, and get the correct pose number\n",
    "#\n",
    "\n",
    "# This assumes chain A is the correct chain, pull the CA and CB xyz vectors from the\n",
    "# pose, then calculated the distances.\n",
    "import pandas as pd\n",
    "\n",
    "listofseries = []\n",
    "\n",
    "for i in catres:    \n",
    "    \n",
    "    poseresi = crystal.pdb_info().pdb2pose('A',i)\n",
    "    xyzi_CA = crystal.residue(poseresi).atom('CA').xyz() \n",
    "    xyzi_CB = crystal.residue(poseresi).atom('CB').xyz()    \n",
    "\n",
    "    for j in catres:\n",
    "        if j > i:\n",
    "            poseresj = crystal.pdb_info().pdb2pose('A',j)\n",
    "            xyzj_CA = crystal.residue(poseresj).atom('CA').xyz() \n",
    "            xyzj_CB = crystal.residue(poseresj).atom('CB').xyz()    \n",
    "            \n",
    "            ##\n",
    "            ## Calc distances\n",
    "            ##\n",
    "            CA_CA_d = xyzi_CA.distance(xyzj_CA)\n",
    "            CB_CB_d = xyzi_CB.distance(xyzj_CB)\n",
    "            resiCA_resjCB = xyzi_CA.distance( xyzj_CB )\n",
    "            resiCB_resjCA = xyzj_CA.distance( xyzi_CB )\n",
    "            \n",
    "            ## Now store the data\n",
    "            mydict = { 'name' : pdbcode,\n",
    "                'crystalresi': int(i),\n",
    "                    'crystalresj':int(j),\n",
    "                    'CA_distance': CA_CA_d,\n",
    "                    'CB_distance': CB_CB_d,\n",
    "                    'resi_CA_to_resj_CB_distance': resiCA_resjCB,\n",
    "                    'resj_CA_to_resi_CB_distance': resiCB_resjCA,                      \n",
    "                    \n",
    "                     }\n",
    "                \n",
    "            listofseries.append(pd.Series(mydict))\n",
    "df = pd.DataFrame(listofseries)"
   ]
  },
  {
   "cell_type": "code",
   "execution_count": 14,
   "metadata": {},
   "outputs": [
    {
     "data": {
      "text/html": [
       "<div>\n",
       "<style>\n",
       "    .dataframe thead tr:only-child th {\n",
       "        text-align: right;\n",
       "    }\n",
       "\n",
       "    .dataframe thead th {\n",
       "        text-align: left;\n",
       "    }\n",
       "\n",
       "    .dataframe tbody tr th {\n",
       "        vertical-align: top;\n",
       "    }\n",
       "</style>\n",
       "<table border=\"1\" class=\"dataframe\">\n",
       "  <thead>\n",
       "    <tr style=\"text-align: right;\">\n",
       "      <th></th>\n",
       "      <th>CA_distance</th>\n",
       "      <th>CB_distance</th>\n",
       "      <th>crystalresi</th>\n",
       "      <th>crystalresj</th>\n",
       "      <th>name</th>\n",
       "      <th>resi_CA_to_resj_CB_distance</th>\n",
       "      <th>resj_CA_to_resi_CB_distance</th>\n",
       "    </tr>\n",
       "  </thead>\n",
       "  <tbody>\n",
       "    <tr>\n",
       "      <th>0</th>\n",
       "      <td>14.531603</td>\n",
       "      <td>12.378127</td>\n",
       "      <td>14</td>\n",
       "      <td>38</td>\n",
       "      <td>1w6y</td>\n",
       "      <td>13.427255</td>\n",
       "      <td>13.395572</td>\n",
       "    </tr>\n",
       "    <tr>\n",
       "      <th>1</th>\n",
       "      <td>10.690744</td>\n",
       "      <td>7.865900</td>\n",
       "      <td>14</td>\n",
       "      <td>101</td>\n",
       "      <td>1w6y</td>\n",
       "      <td>9.253739</td>\n",
       "      <td>9.302595</td>\n",
       "    </tr>\n",
       "    <tr>\n",
       "      <th>2</th>\n",
       "      <td>8.361522</td>\n",
       "      <td>7.958868</td>\n",
       "      <td>38</td>\n",
       "      <td>101</td>\n",
       "      <td>1w6y</td>\n",
       "      <td>8.213799</td>\n",
       "      <td>8.368847</td>\n",
       "    </tr>\n",
       "  </tbody>\n",
       "</table>\n",
       "</div>"
      ],
      "text/plain": [
       "   CA_distance  CB_distance  crystalresi  crystalresj  name  \\\n",
       "0    14.531603    12.378127           14           38  1w6y   \n",
       "1    10.690744     7.865900           14          101  1w6y   \n",
       "2     8.361522     7.958868           38          101  1w6y   \n",
       "\n",
       "   resi_CA_to_resj_CB_distance  resj_CA_to_resi_CB_distance  \n",
       "0                    13.427255                    13.395572  \n",
       "1                     9.253739                     9.302595  \n",
       "2                     8.213799                     8.368847  "
      ]
     },
     "execution_count": 14,
     "metadata": {},
     "output_type": "execute_result"
    }
   ],
   "source": [
    "#print out your data\n",
    "df"
   ]
  },
  {
   "cell_type": "code",
   "execution_count": 15,
   "metadata": {
    "scrolled": true
   },
   "outputs": [
    {
     "name": "stdout",
     "output_type": "stream",
     "text": [
      "AtomPair CA 14 CA 38 SCALARWEIGHTEDFUNC 1000 HARMONIC 14.53 0.5 \n",
      "\n",
      "AtomPair CB 14 CB 38 SCALARWEIGHTEDFUNC 1000 HARMONIC 12.38 0.5 \n",
      "\n",
      "AtomPair CA 14 CB 38 SCALARWEIGHTEDFUNC 1000 HARMONIC 13.43 0.5 \n",
      "\n",
      "AtomPair CB 14 CA 38 SCALARWEIGHTEDFUNC 1000 HARMONIC 13.40 0.5 \n",
      "\n",
      "AtomPair CA 14 CA 101 SCALARWEIGHTEDFUNC 1000 HARMONIC 10.69 0.5 \n",
      "\n",
      "AtomPair CB 14 CB 101 SCALARWEIGHTEDFUNC 1000 HARMONIC 7.87 0.5 \n",
      "\n",
      "AtomPair CA 14 CB 101 SCALARWEIGHTEDFUNC 1000 HARMONIC 9.25 0.5 \n",
      "\n",
      "AtomPair CB 14 CA 101 SCALARWEIGHTEDFUNC 1000 HARMONIC 9.30 0.5 \n",
      "\n",
      "AtomPair CA 38 CA 101 SCALARWEIGHTEDFUNC 1000 HARMONIC 8.36 0.5 \n",
      "\n",
      "AtomPair CB 38 CB 101 SCALARWEIGHTEDFUNC 1000 HARMONIC 7.96 0.5 \n",
      "\n",
      "AtomPair CA 38 CB 101 SCALARWEIGHTEDFUNC 1000 HARMONIC 8.21 0.5 \n",
      "\n",
      "AtomPair CB 38 CA 101 SCALARWEIGHTEDFUNC 1000 HARMONIC 8.37 0.5 \n",
      "\n"
     ]
    }
   ],
   "source": [
    "#store the new lines to add here\n",
    "addcstlines = []\n",
    "for i in catres:\n",
    "    for j in catres:\n",
    "        if j > i:        \n",
    "                # for each catalytic pair, get the CA-CA, CB-CB and both cross distances CA-CB CB-CA\n",
    "                addcstlines.append(\"AtomPair CA %s CA %s SCALARWEIGHTEDFUNC %s HARMONIC %.2f %s \\n\" %(i,j,1000,df[ (df.crystalresi == i) & (df.crystalresj == j )].CA_distance.values[0],0.5))\n",
    "                addcstlines.append(\"AtomPair CB %s CB %s SCALARWEIGHTEDFUNC %s HARMONIC %.2f %s \\n\" %(i,j,1000,df[ (df.crystalresi == i) & (df.crystalresj == j )].CB_distance.values[0],0.5))\n",
    "                addcstlines.append(\"AtomPair CA %s CB %s SCALARWEIGHTEDFUNC %s HARMONIC %.2f %s \\n\" %(i,j,1000,df[ (df.crystalresi == i) & (df.crystalresj == j )].resi_CA_to_resj_CB_distance.values[0],0.5))\n",
    "                addcstlines.append(\"AtomPair CB %s CA %s SCALARWEIGHTEDFUNC %s HARMONIC %.2f %s \\n\" %(i,j,1000,df[ (df.crystalresi == i) & (df.crystalresj == j )].resj_CA_to_resi_CB_distance.values[0],0.5))\n",
    "\n",
    "# see your constraints.\n",
    "for i in addcstlines:\n",
    "    print i"
   ]
  },
  {
   "cell_type": "code",
   "execution_count": null,
   "metadata": {
    "collapsed": true
   },
   "outputs": [],
   "source": []
  }
 ],
 "metadata": {
  "anaconda-cloud": {},
  "kernelspec": {
   "display_name": "Python 2",
   "language": "python",
   "name": "python2"
  },
  "language_info": {
   "codemirror_mode": {
    "name": "ipython",
    "version": 2
   },
   "file_extension": ".py",
   "mimetype": "text/x-python",
   "name": "python",
   "nbconvert_exporter": "python",
   "pygments_lexer": "ipython2",
   "version": "2.7.13"
  }
 },
 "nbformat": 4,
 "nbformat_minor": 1
}
